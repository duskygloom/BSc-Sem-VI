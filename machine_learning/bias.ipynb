{
 "cells": [
  {
   "cell_type": "markdown",
   "id": "31702672",
   "metadata": {},
   "source": [
    "### **What is bias?**\n",
    "\n",
    "Bias is defined simply as the inability of the model because<br>\n",
    "of that there is some difference or error occurring between<br>\n",
    "the model predicted value and the actual value."
   ]
  },
  {
   "cell_type": "markdown",
   "id": "3619a4dc",
   "metadata": {},
   "source": [
    "$`Y`$ is the true value of a parameter and let $`\\hat{Y}`$ be an estimation<br>\n",
    "of $`Y`$ based on a sample of data. Then the bias of the estimated $`\\hat{Y}`$<br>\n",
    "is given by $`B(\\hat{Y}) = E(\\hat{Y}) - Y`$"
   ]
  },
  {
   "cell_type": "markdown",
   "id": "4d0129eb",
   "metadata": {},
   "source": [
    "Low bias value means fewer assumptions are taken to build the<br>\n",
    "target function. In this case, the model will closely match the<br>\n",
    "training data set."
   ]
  },
  {
   "cell_type": "markdown",
   "id": "59e804f5",
   "metadata": {},
   "source": [
    "### **What is variance?**\n",
    "\n",
    "Variance is the measure of spread in data from its mean position.<br>\n",
    "It is the amount by which the performance of a predictive model<br>\n",
    "changes when it is trained on a different subset of training data."
   ]
  },
  {
   "cell_type": "markdown",
   "id": "faea8892",
   "metadata": {},
   "source": [
    "Let $`Y`$ be the actual value of the target variable and $`\\hat{Y}`$ be the<br>\n",
    "predicted value of the target variable then variance will be<br>\n",
    "$`V = E(\\hat{Y} - E(\\hat{Y})^2)`$"
   ]
  },
  {
   "cell_type": "markdown",
   "id": "d8b6e7e1",
   "metadata": {},
   "source": [
    "Low variance means that the model is less sensitive to changes<br>\n",
    "to the training data and can produce consistent estimation of<br>\n",
    "the target function with different subsets of data from the same<br>\n",
    "distribution."
   ]
  },
  {
   "cell_type": "markdown",
   "id": "6644e3f7",
   "metadata": {},
   "source": [
    "| Fit          | Variance | Bias |\n",
    "|--------------|----------|------|\n",
    "| **Underfit** | High     | Low  | \n",
    "| **Overfit**  | Low      | High |\n",
    "| **Bestfit**  | Low      | Low  |"
   ]
  }
 ],
 "metadata": {
  "kernelspec": {
   "display_name": "machine_learning",
   "language": "python",
   "name": "python3"
  },
  "language_info": {
   "name": "python",
   "version": "3.10.10"
  }
 },
 "nbformat": 4,
 "nbformat_minor": 5
}
