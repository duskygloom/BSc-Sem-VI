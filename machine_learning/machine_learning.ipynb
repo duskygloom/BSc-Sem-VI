{
 "cells": [
  {
   "cell_type": "markdown",
   "metadata": {},
   "source": [
    "### **Machine learning**"
   ]
  },
  {
   "cell_type": "markdown",
   "metadata": {},
   "source": [
    "The main focus of ML is making decision or prediction based on the data."
   ]
  },
  {
   "cell_type": "markdown",
   "metadata": {},
   "source": [
    "Steps taken:\n",
    "1. Collect data.\n",
    "2. Design a space of possible solutions.\n",
    "3. Characterize the objective.\n",
    "4. Select the learning algorithm.\n",
    "5. Run.\n",
    "6. Validate the result."
   ]
  },
  {
   "cell_type": "markdown",
   "metadata": {},
   "source": [
    "The computer only handles step 5. The other steps are done by humans."
   ]
  },
  {
   "cell_type": "markdown",
   "metadata": {},
   "source": [
    "To solve ML problem:\n",
    "1. Generalization\n",
    "2. Estimation"
   ]
  },
  {
   "cell_type": "markdown",
   "metadata": {},
   "source": [
    "If we consider the example of a weather prediction:<br>\n",
    "- Generalization will be the process of collecting and studying past weather data to find a pattern.\n",
    "- Estimation will be the process of predicting tomorrow's weather based on the pattern we generated."
   ]
  },
  {
   "cell_type": "markdown",
   "metadata": {},
   "source": [
    "ML can be categorized into:\n",
    "1. Supervised learning\n",
    "    1. Classification - yes or no solution\n",
    "    2. Regression - more than two solutions to predict\n",
    "2. Unsupervised learning\n",
    "    1. Clustering\n",
    "    2. Dimensionality reduction\n",
    "3. Semi-supervised learning\n",
    "    1. Something\n",
    "    2. Other thing\n",
    "4. Reinforcement learning\n",
    "    1. Discrete action space\n",
    "    2. Continuous action space"
   ]
  },
  {
   "cell_type": "markdown",
   "metadata": {},
   "source": [
    "### **Supervised learning**"
   ]
  },
  {
   "cell_type": "markdown",
   "metadata": {},
   "source": [
    "The idea of supervised learning is that the learning system is given inputs and told which specific outputs should be associated with them."
   ]
  },
  {
   "cell_type": "markdown",
   "metadata": {},
   "source": [
    "$`D_n = \\{(x^1, y^1), (x^2, y^2) ... (x^n, y^n)\\}`$"
   ]
  },
  {
   "cell_type": "markdown",
   "metadata": {},
   "source": [
    "It doesn't involve learning a function from input to output based on a set of input output pair.<br>\n",
    "Instead, one is given a data set and generally expected to find some pattern or structure inherent in it."
   ]
  },
  {
   "cell_type": "markdown",
   "metadata": {},
   "source": [
    "### **Binary classification**"
   ]
  },
  {
   "cell_type": "markdown",
   "metadata": {},
   "source": []
  },
  {
   "cell_type": "markdown",
   "metadata": {},
   "source": [
    "### **Reinforcement learning**"
   ]
  },
  {
   "cell_type": "markdown",
   "metadata": {},
   "source": [
    "<p style=\"max-width: 800px\">\n",
    "In reinforcement learning, the goal is to map input value X to output value Y, but without a direct supervision signal to specify which output value Y are best for the input. There is no training set specified before hand.\n",
    "</p>"
   ]
  },
  {
   "cell_type": "markdown",
   "metadata": {},
   "source": [
    "- The agent observed the current state $`x_n`$.\n",
    "- It select an action $`y_n`$.\n",
    "- It recieves a reward $`r_n`$ , which depends on $`x_n`$ and $`y_n`$.\n",
    "- The environment transitions probalistically to a new state $`x_{n+1}`$."
   ]
  },
  {
   "cell_type": "markdown",
   "metadata": {},
   "source": []
  }
 ],
 "metadata": {
  "kernelspec": {
   "display_name": "machine_learning",
   "language": "python",
   "name": "python3"
  },
  "language_info": {
   "name": "python",
   "version": "3.10.10"
  }
 },
 "nbformat": 4,
 "nbformat_minor": 2
}
