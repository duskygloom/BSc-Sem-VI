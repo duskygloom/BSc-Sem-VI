{
 "cells": [
  {
   "cell_type": "markdown",
   "metadata": {},
   "source": [
    "### **Extended Euclidean algorithm**\n",
    "\n",
    "For two numbers $`a`$ and $`b`$, extended Euclidean algorithm<br>\n",
    "finds $`x`$ and $`y`$ such that $`ax + by = gcd(a, b)`$"
   ]
  },
  {
   "cell_type": "code",
   "execution_count": 51,
   "metadata": {},
   "outputs": [],
   "source": [
    "def extended_gcd(a: int, b: int) -> tuple[int]:\n",
    "    '''\n",
    "    Returns\n",
    "    ----------------\n",
    "    `gcd(a, b)`, `x` and `y` such that `ax + by = gcd(a, b)`.\n",
    "    '''\n",
    "    x1, x2 = 1, 0\n",
    "    y1, y2 = 0, 1\n",
    "    while b != 0:\n",
    "        q = a // b\n",
    "        x1, x2 = x2, x1 - q*x2\n",
    "        y1, y2 = y2, y1 - q*y2\n",
    "        a, b = b, a % b\n",
    "    return a, x1, y1"
   ]
  },
  {
   "cell_type": "code",
   "execution_count": 52,
   "metadata": {},
   "outputs": [
    {
     "data": {
      "text/plain": [
       "(1, 13, -9)"
      ]
     },
     "execution_count": 52,
     "metadata": {},
     "output_type": "execute_result"
    }
   ],
   "source": [
    "extended_gcd(25, 36)"
   ]
  },
  {
   "cell_type": "code",
   "execution_count": 53,
   "metadata": {},
   "outputs": [
    {
     "data": {
      "text/plain": [
       "1"
      ]
     },
     "execution_count": 53,
     "metadata": {},
     "output_type": "execute_result"
    }
   ],
   "source": [
    "25*13 - 36*9"
   ]
  }
 ],
 "metadata": {
  "kernelspec": {
   "display_name": "cryptography",
   "language": "python",
   "name": "python3"
  },
  "language_info": {
   "codemirror_mode": {
    "name": "ipython",
    "version": 3
   },
   "file_extension": ".py",
   "mimetype": "text/x-python",
   "name": "python",
   "nbconvert_exporter": "python",
   "pygments_lexer": "ipython3",
   "version": "3.10.10"
  }
 },
 "nbformat": 4,
 "nbformat_minor": 2
}
